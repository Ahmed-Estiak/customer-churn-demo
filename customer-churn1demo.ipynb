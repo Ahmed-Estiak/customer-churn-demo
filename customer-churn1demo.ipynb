{
 "cells": [
  {
   "cell_type": "markdown",
   "id": "b95c4b62",
   "metadata": {},
   "source": [
    "This Notebook is for customer churn data from IDM. "
   ]
  },
  {
   "cell_type": "code",
   "execution_count": null,
   "id": "34552331",
   "metadata": {
    "vscode": {
     "languageId": "plaintext"
    }
   },
   "outputs": [],
   "source": []
  }
 ],
 "metadata": {
  "language_info": {
   "name": "python"
  }
 },
 "nbformat": 4,
 "nbformat_minor": 5
}
